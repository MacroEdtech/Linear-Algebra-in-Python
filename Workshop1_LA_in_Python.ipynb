{
  "nbformat": 4,
  "nbformat_minor": 0,
  "metadata": {
    "colab": {
      "provenance": []
    },
    "kernelspec": {
      "name": "python3",
      "display_name": "Python 3"
    },
    "language_info": {
      "name": "python"
    }
  },
  "cells": [
    {
      "cell_type": "code",
      "execution_count": null,
      "metadata": {
        "id": "W37HHo5vg-wS"
      },
      "outputs": [],
      "source": [
        "#MacroEdtech Online educational services\n"
      ]
    },
    {
      "cell_type": "code",
      "source": [
        "# **********Linear Algebra in Python ***********#\n"
      ],
      "metadata": {
        "id": "uvOEFiwypjTz"
      },
      "execution_count": null,
      "outputs": []
    },
    {
      "cell_type": "markdown",
      "source": [
        "**Linear Algebra is central and important in almost all areas\n",
        "of mathematics**\n",
        "\n",
        "• Linear Algebra is the “Mathematics of Data“\n",
        "\n",
        "• Foundation: Vectors and Matrices\n",
        "\n",
        "• Linear Equations\n",
        "\n",
        "• Modern statistics and data analysis depends on Linear\n",
        "Algebra\n",
        "\n",
        "• Linear Algebra plays an important role in advanced\n",
        "Control Engineering\n",
        "\n",
        "• Linear Algebra plays an important role in Machine\n",
        "Learning"
      ],
      "metadata": {
        "id": "eB7jEYlUxsmh"
      }
    },
    {
      "cell_type": "code",
      "source": [
        "#Let's use the Array feature in the NumPy Library#"
      ],
      "metadata": {
        "id": "_OKqrTZR9__b"
      },
      "execution_count": null,
      "outputs": []
    },
    {
      "cell_type": "code",
      "source": [
        "import numpy as np\n",
        "a = np.array([[1],\n",
        "[3],\n",
        "[7],\n",
        "[2]])\n",
        "print(\"a =\", a)\n",
        "A = np.array([[1, 3, 7, 2],\n",
        "[5, 8, -9, 0],\n",
        "[6, -7, 11, 12]])\n",
        "print(\"A =\", A)"
      ],
      "metadata": {
        "colab": {
          "base_uri": "https://localhost:8080/"
        },
        "id": "b8wovc9fyKTZ",
        "outputId": "2e9f68a2-9bb0-49a3-b9f9-dee2fa6b8ef0"
      },
      "execution_count": 8,
      "outputs": [
        {
          "output_type": "stream",
          "name": "stdout",
          "text": [
            "a = [[1]\n",
            " [3]\n",
            " [7]\n",
            " [2]]\n",
            "A = [[ 1  3  7  2]\n",
            " [ 5  8 -9  0]\n",
            " [ 6 -7 11 12]]\n"
          ]
        }
      ]
    },
    {
      "cell_type": "code",
      "source": [
        "#Matrix Addition, Subtraction, Multiplication#\n"
      ],
      "metadata": {
        "id": "NcZiicL692gF"
      },
      "execution_count": null,
      "outputs": []
    },
    {
      "cell_type": "code",
      "source": [
        "import numpy as np\n",
        "A = np.array([[0, 1],\n",
        "[-2, -3]])\n",
        "B = np.array([[1, 0],\n",
        "[3, -2]])\n",
        "C = A + B\n",
        "print(\"A+B =\", C)\n",
        "C = A - B\n",
        "print(\"A-B =\", C)\n",
        "C = A.dot(B)\n",
        "print(\"A*B =\", C)"
      ],
      "metadata": {
        "colab": {
          "base_uri": "https://localhost:8080/"
        },
        "id": "mfbtbsyR4kSl",
        "outputId": "9d4589a8-8312-4d90-e6a4-ef60998c32b8"
      },
      "execution_count": 6,
      "outputs": [
        {
          "output_type": "stream",
          "name": "stdout",
          "text": [
            "A+B = [[ 1  1]\n",
            " [ 1 -5]]\n",
            "A-B = [[-1  1]\n",
            " [-5 -1]]\n",
            "A*B = [[  3  -2]\n",
            " [-11   6]]\n"
          ]
        }
      ]
    },
    {
      "cell_type": "code",
      "source": [
        "#Example number 3"
      ],
      "metadata": {
        "id": "-36GHMPI-Ooj"
      },
      "execution_count": null,
      "outputs": []
    },
    {
      "cell_type": "code",
      "source": [
        "import numpy as np\n",
        "A = np.array([[1, 5, 3],\n",
        "[4, 6, 6],\n",
        "[3, 8, 9]])\n",
        "B = np.array([[1, 5, 3, 4],\n",
        "[4, 5, 7, 8],\n",
        "[7, 8, 9, 3]])\n",
        "C = np.array([[1],\n",
        "[4],\n",
        "[3]])\n",
        "D = np.array([[1, 5, 3]])\n",
        "M = np.matmul(A,B)\n",
        "print(\"M=\", M)\n",
        "#M = np.matmul(B,A) # Not Working!\n",
        "M = np.matmul(A,C)\n",
        "print(\"M=\", M)\n",
        "#M = np.matmul(C,A) # Not Working!\n",
        "M = np.matmul(C,D)\n",
        "print(\"M=\", M)\n",
        "M = np.matmul(D,C)\n",
        "print(\"M=\", M)"
      ],
      "metadata": {
        "colab": {
          "base_uri": "https://localhost:8080/"
        },
        "id": "mWp4O10a-5-t",
        "outputId": "8f454432-442c-4c33-9921-b34c82fb3101"
      },
      "execution_count": 7,
      "outputs": [
        {
          "output_type": "stream",
          "name": "stdout",
          "text": [
            "M= [[ 42  54  65  53]\n",
            " [ 70  98 108  82]\n",
            " [ 98 127 146 103]]\n",
            "M= [[30]\n",
            " [46]\n",
            " [62]]\n",
            "M= [[ 1  5  3]\n",
            " [ 4 20 12]\n",
            " [ 3 15  9]]\n",
            "M= [[30]]\n"
          ]
        }
      ]
    }
  ]
}